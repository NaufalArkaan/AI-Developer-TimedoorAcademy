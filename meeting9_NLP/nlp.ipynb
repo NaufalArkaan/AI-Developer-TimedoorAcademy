{
 "cells": [
  {
   "cell_type": "code",
   "execution_count": 2,
   "metadata": {},
   "outputs": [
    {
     "data": {
      "text/plain": [
       "'Tokenization is the structured process of converting a sentence into an individual \\ncollection of elements called tokens. It is also used to understand the importance of each \\nof the words with respect to the sentence. These so-called tokens can be words, numbers, or \\npunctuation marks.'"
      ]
     },
     "execution_count": 2,
     "metadata": {},
     "output_type": "execute_result"
    }
   ],
   "source": [
    "import numpy as np\n",
    "import nltk\n",
    "\n",
    "f = open('sentence.txt', 'r', errors='ignore')\n",
    "raw_code = f.read()\n",
    "raw_code"
   ]
  },
  {
   "cell_type": "code",
   "execution_count": 3,
   "metadata": {},
   "outputs": [
    {
     "data": {
      "text/plain": [
       "'TOKENIZATION IS THE STRUCTURED PROCESS OF CONVERTING A SENTENCE INTO AN INDIVIDUAL \\nCOLLECTION OF ELEMENTS CALLED TOKENS. IT IS ALSO USED TO UNDERSTAND THE IMPORTANCE OF EACH \\nOF THE WORDS WITH RESPECT TO THE SENTENCE. THESE SO-CALLED TOKENS CAN BE WORDS, NUMBERS, OR \\nPUNCTUATION MARKS.'"
      ]
     },
     "execution_count": 3,
     "metadata": {},
     "output_type": "execute_result"
    }
   ],
   "source": [
    "raw_code = raw_code.upper()\n",
    "raw_code"
   ]
  },
  {
   "cell_type": "code",
   "execution_count": 4,
   "metadata": {},
   "outputs": [
    {
     "name": "stderr",
     "output_type": "stream",
     "text": [
      "[nltk_data] Downloading package punkt to\n",
      "[nltk_data]     C:\\Users\\Naufal\\AppData\\Roaming\\nltk_data...\n",
      "[nltk_data]   Package punkt is already up-to-date!\n",
      "[nltk_data] Downloading package wordnet to\n",
      "[nltk_data]     C:\\Users\\Naufal\\AppData\\Roaming\\nltk_data...\n",
      "[nltk_data]   Package wordnet is already up-to-date!\n"
     ]
    },
    {
     "data": {
      "text/plain": [
       "['TOKENIZATION',\n",
       " 'IS',\n",
       " 'THE',\n",
       " 'STRUCTURED',\n",
       " 'PROCESS',\n",
       " 'OF',\n",
       " 'CONVERTING',\n",
       " 'A',\n",
       " 'SENTENCE',\n",
       " 'INTO',\n",
       " 'AN',\n",
       " 'INDIVIDUAL',\n",
       " 'COLLECTION',\n",
       " 'OF',\n",
       " 'ELEMENTS',\n",
       " 'CALLED',\n",
       " 'TOKENS',\n",
       " '.',\n",
       " 'IT',\n",
       " 'IS',\n",
       " 'ALSO',\n",
       " 'USED',\n",
       " 'TO',\n",
       " 'UNDERSTAND',\n",
       " 'THE',\n",
       " 'IMPORTANCE',\n",
       " 'OF',\n",
       " 'EACH',\n",
       " 'OF',\n",
       " 'THE',\n",
       " 'WORDS',\n",
       " 'WITH',\n",
       " 'RESPECT',\n",
       " 'TO',\n",
       " 'THE',\n",
       " 'SENTENCE',\n",
       " '.',\n",
       " 'THESE',\n",
       " 'SO-CALLED',\n",
       " 'TOKENS',\n",
       " 'CAN',\n",
       " 'BE',\n",
       " 'WORDS',\n",
       " ',',\n",
       " 'NUMBERS',\n",
       " ',',\n",
       " 'OR',\n",
       " 'PUNCTUATION',\n",
       " 'MARKS',\n",
       " '.']"
      ]
     },
     "execution_count": 4,
     "metadata": {},
     "output_type": "execute_result"
    }
   ],
   "source": [
    "from nltk.tokenize import sent_tokenize, word_tokenize\n",
    "nltk.download('punkt')\n",
    "nltk.download('wordnet')\n",
    "\n",
    "segment = nltk.sent_tokenize(raw_code)  # into sentences\n",
    "word_tokens = nltk.word_tokenize(raw_code)  # into words\n",
    "segment#          \n",
    "word_tokens#  "
   ]
  },
  {
   "cell_type": "code",
   "execution_count": 5,
   "metadata": {},
   "outputs": [
    {
     "data": {
      "text/plain": [
       "['TOKENIZATION',\n",
       " 'IS',\n",
       " 'THE',\n",
       " 'STRUCTURED',\n",
       " 'PROCESS',\n",
       " 'OF',\n",
       " 'CONVERTING',\n",
       " 'A',\n",
       " 'SENTENCE',\n",
       " 'INTO',\n",
       " 'AN',\n",
       " 'INDIVIDUAL',\n",
       " 'COLLECTION',\n",
       " 'OF',\n",
       " 'ELEMENTS',\n",
       " 'CALLED',\n",
       " 'TOKENS',\n",
       " 'IT',\n",
       " 'IS',\n",
       " 'ALSO',\n",
       " 'USED',\n",
       " 'TO',\n",
       " 'UNDERSTAND',\n",
       " 'THE',\n",
       " 'IMPORTANCE',\n",
       " 'OF',\n",
       " 'EACH',\n",
       " 'OF',\n",
       " 'THE',\n",
       " 'WORDS',\n",
       " 'WITH',\n",
       " 'RESPECT',\n",
       " 'TO',\n",
       " 'THE',\n",
       " 'SENTENCE',\n",
       " 'THESE',\n",
       " 'SOCALLED',\n",
       " 'TOKENS',\n",
       " 'CAN',\n",
       " 'BE',\n",
       " 'WORDS',\n",
       " 'NUMBERS',\n",
       " 'OR',\n",
       " 'PUNCTUATION',\n",
       " 'MARKS']"
      ]
     },
     "execution_count": 5,
     "metadata": {},
     "output_type": "execute_result"
    }
   ],
   "source": [
    "import re\n",
    "clean_data = []\n",
    "for words in word_tokens:\n",
    "    item = []\n",
    "    result = re.sub(r\"[^\\w\\s]\", \"\", words)\n",
    "    if result !=  \"\":\n",
    "        clean_data.append(result)\n",
    "\n",
    "clean_data"
   ]
  },
  {
   "cell_type": "code",
   "execution_count": 6,
   "metadata": {},
   "outputs": [
    {
     "name": "stdout",
     "output_type": "stream",
     "text": [
      "['i', 'me', 'my', 'myself', 'we', 'our', 'ours', 'ourselves', 'you', \"you're\", \"you've\", \"you'll\", \"you'd\", 'your', 'yours', 'yourself', 'yourselves', 'he', 'him', 'his', 'himself', 'she', \"she's\", 'her', 'hers', 'herself', 'it', \"it's\", 'its', 'itself', 'they', 'them', 'their', 'theirs', 'themselves', 'what', 'which', 'who', 'whom', 'this', 'that', \"that'll\", 'these', 'those', 'am', 'is', 'are', 'was', 'were', 'be', 'been', 'being', 'have', 'has', 'had', 'having', 'do', 'does', 'did', 'doing', 'a', 'an', 'the', 'and', 'but', 'if', 'or', 'because', 'as', 'until', 'while', 'of', 'at', 'by', 'for', 'with', 'about', 'against', 'between', 'into', 'through', 'during', 'before', 'after', 'above', 'below', 'to', 'from', 'up', 'down', 'in', 'out', 'on', 'off', 'over', 'under', 'again', 'further', 'then', 'once', 'here', 'there', 'when', 'where', 'why', 'how', 'all', 'any', 'both', 'each', 'few', 'more', 'most', 'other', 'some', 'such', 'no', 'nor', 'not', 'only', 'own', 'same', 'so', 'than', 'too', 'very', 's', 't', 'can', 'will', 'just', 'don', \"don't\", 'should', \"should've\", 'now', 'd', 'll', 'm', 'o', 're', 've', 'y', 'ain', 'aren', \"aren't\", 'couldn', \"couldn't\", 'didn', \"didn't\", 'doesn', \"doesn't\", 'hadn', \"hadn't\", 'hasn', \"hasn't\", 'haven', \"haven't\", 'isn', \"isn't\", 'ma', 'mightn', \"mightn't\", 'mustn', \"mustn't\", 'needn', \"needn't\", 'shan', \"shan't\", 'shouldn', \"shouldn't\", 'wasn', \"wasn't\", 'weren', \"weren't\", 'won', \"won't\", 'wouldn', \"wouldn't\"]\n"
     ]
    },
    {
     "name": "stderr",
     "output_type": "stream",
     "text": [
      "[nltk_data] Downloading package stopwords to\n",
      "[nltk_data]     C:\\Users\\Naufal\\AppData\\Roaming\\nltk_data...\n",
      "[nltk_data]   Package stopwords is already up-to-date!\n"
     ]
    }
   ],
   "source": [
    "nltk.download('stopwords')\n",
    "from nltk.corpus import stopwords\n",
    "\n",
    "print(stopwords.words('english'))"
   ]
  },
  {
   "cell_type": "code",
   "execution_count": 7,
   "metadata": {},
   "outputs": [
    {
     "data": {
      "text/plain": [
       "['TOKENIZATION',\n",
       " 'IS',\n",
       " 'THE',\n",
       " 'STRUCTURED',\n",
       " 'PROCESS',\n",
       " 'OF',\n",
       " 'CONVERTING',\n",
       " 'A',\n",
       " 'SENTENCE',\n",
       " 'INTO',\n",
       " 'AN',\n",
       " 'INDIVIDUAL',\n",
       " 'COLLECTION',\n",
       " 'OF',\n",
       " 'ELEMENTS',\n",
       " 'CALLED',\n",
       " 'TOKENS',\n",
       " 'IT',\n",
       " 'IS',\n",
       " 'ALSO',\n",
       " 'USED',\n",
       " 'TO',\n",
       " 'UNDERSTAND',\n",
       " 'THE',\n",
       " 'IMPORTANCE',\n",
       " 'OF',\n",
       " 'EACH',\n",
       " 'OF',\n",
       " 'THE',\n",
       " 'WORDS',\n",
       " 'WITH',\n",
       " 'RESPECT',\n",
       " 'TO',\n",
       " 'THE',\n",
       " 'SENTENCE',\n",
       " 'THESE',\n",
       " 'SOCALLED',\n",
       " 'TOKENS',\n",
       " 'CAN',\n",
       " 'BE',\n",
       " 'WORDS',\n",
       " 'NUMBERS',\n",
       " 'OR',\n",
       " 'PUNCTUATION',\n",
       " 'MARKS']"
      ]
     },
     "execution_count": 7,
     "metadata": {},
     "output_type": "execute_result"
    }
   ],
   "source": [
    "clean_data_1 = []\n",
    "for words in clean_data:\n",
    "    if not words in stopwords.words('english'): #Apabila kata bukan termasuk kata stopwords dalam ‘english’, maka kata tersebut akan dimasukan ke dalam list clean_data_1\n",
    "        clean_data_1.append(words)             \n",
    "                                               \n",
    "clean_data_1"
   ]
  },
  {
   "cell_type": "code",
   "execution_count": 8,
   "metadata": {},
   "outputs": [
    {
     "data": {
      "text/plain": [
       "['token',\n",
       " 'is',\n",
       " 'the',\n",
       " 'structur',\n",
       " 'process',\n",
       " 'of',\n",
       " 'convert',\n",
       " 'a',\n",
       " 'sentenc',\n",
       " 'into',\n",
       " 'an',\n",
       " 'individu',\n",
       " 'collect',\n",
       " 'of',\n",
       " 'element',\n",
       " 'call',\n",
       " 'token',\n",
       " 'it',\n",
       " 'is',\n",
       " 'also',\n",
       " 'use',\n",
       " 'to',\n",
       " 'understand',\n",
       " 'the',\n",
       " 'import',\n",
       " 'of',\n",
       " 'each',\n",
       " 'of',\n",
       " 'the',\n",
       " 'word',\n",
       " 'with',\n",
       " 'respect',\n",
       " 'to',\n",
       " 'the',\n",
       " 'sentenc',\n",
       " 'these',\n",
       " 'socal',\n",
       " 'token',\n",
       " 'can',\n",
       " 'be',\n",
       " 'word',\n",
       " 'number',\n",
       " 'or',\n",
       " 'punctuat',\n",
       " 'mark']"
      ]
     },
     "execution_count": 8,
     "metadata": {},
     "output_type": "execute_result"
    }
   ],
   "source": [
    "from nltk.stem import PorterStemmer\n",
    "stemmer = PorterStemmer()\n",
    "stemmed_data = [stemmer.stem(word) for word in clean_data_1]\n",
    "stemmed_data "
   ]
  },
  {
   "cell_type": "code",
   "execution_count": 9,
   "metadata": {},
   "outputs": [
    {
     "name": "stderr",
     "output_type": "stream",
     "text": [
      "[nltk_data] Downloading package wordnet to\n",
      "[nltk_data]     C:\\Users\\Naufal\\AppData\\Roaming\\nltk_data...\n",
      "[nltk_data]   Package wordnet is already up-to-date!\n"
     ]
    },
    {
     "data": {
      "text/plain": [
       "['TOKENIZATION',\n",
       " 'IS',\n",
       " 'THE',\n",
       " 'STRUCTURED',\n",
       " 'PROCESS',\n",
       " 'OF',\n",
       " 'CONVERTING',\n",
       " 'A',\n",
       " 'SENTENCE',\n",
       " 'INTO',\n",
       " 'AN',\n",
       " 'INDIVIDUAL',\n",
       " 'COLLECTION',\n",
       " 'OF',\n",
       " 'ELEMENTS',\n",
       " 'CALLED',\n",
       " 'TOKENS',\n",
       " 'IT',\n",
       " 'IS',\n",
       " 'ALSO',\n",
       " 'USED',\n",
       " 'TO',\n",
       " 'UNDERSTAND',\n",
       " 'THE',\n",
       " 'IMPORTANCE',\n",
       " 'OF',\n",
       " 'EACH',\n",
       " 'OF',\n",
       " 'THE',\n",
       " 'WORDS',\n",
       " 'WITH',\n",
       " 'RESPECT',\n",
       " 'TO',\n",
       " 'THE',\n",
       " 'SENTENCE',\n",
       " 'THESE',\n",
       " 'SOCALLED',\n",
       " 'TOKENS',\n",
       " 'CAN',\n",
       " 'BE',\n",
       " 'WORDS',\n",
       " 'NUMBERS',\n",
       " 'OR',\n",
       " 'PUNCTUATION',\n",
       " 'MARKS']"
      ]
     },
     "execution_count": 9,
     "metadata": {},
     "output_type": "execute_result"
    }
   ],
   "source": [
    "from nltk.stem.wordnet import  WordNetLemmatizer\n",
    "import nltk\n",
    "lemmer = nltk.stem.WordNetLemmatizer()\n",
    "nltk.download('wordnet')\n",
    "lemma_data = []\n",
    "for word in clean_data_1:\n",
    "    lemma_data.append(lemmer.lemmatize(word))\n",
    "\n",
    "lemma_data"
   ]
  },
  {
   "cell_type": "code",
   "execution_count": 10,
   "metadata": {},
   "outputs": [
    {
     "name": "stderr",
     "output_type": "stream",
     "text": [
      "[nltk_data] Downloading package averaged_perceptron_tagger to\n",
      "[nltk_data]     C:\\Users\\Naufal\\AppData\\Roaming\\nltk_data...\n",
      "[nltk_data]   Package averaged_perceptron_tagger is already up-to-\n",
      "[nltk_data]       date!\n"
     ]
    },
    {
     "data": {
      "text/plain": [
       "[('TOKENIZATION', 'NN'),\n",
       " ('IS', 'VBZ'),\n",
       " ('THE', 'NNP'),\n",
       " ('STRUCTURED', 'NNP'),\n",
       " ('PROCESS', 'NNP'),\n",
       " ('OF', 'NNP'),\n",
       " ('CONVERTING', 'NNP'),\n",
       " ('A', 'NNP'),\n",
       " ('SENTENCE', 'NNP'),\n",
       " ('INTO', 'NNP'),\n",
       " ('AN', 'NNP'),\n",
       " ('INDIVIDUAL', 'NNP'),\n",
       " ('COLLECTION', 'NNP'),\n",
       " ('OF', 'IN'),\n",
       " ('ELEMENTS', 'NNP'),\n",
       " ('CALLED', 'NNP'),\n",
       " ('TOKENS', 'NNP'),\n",
       " ('IT', 'NNP'),\n",
       " ('IS', 'NNP'),\n",
       " ('ALSO', 'NNP'),\n",
       " ('USED', 'NNP'),\n",
       " ('TO', 'NNP'),\n",
       " ('UNDERSTAND', 'NNP'),\n",
       " ('THE', 'NNP'),\n",
       " ('IMPORTANCE', 'NNP'),\n",
       " ('OF', 'NNP'),\n",
       " ('EACH', 'NNP'),\n",
       " ('OF', 'IN'),\n",
       " ('THE', 'NNP'),\n",
       " ('WORDS', 'NNP'),\n",
       " ('WITH', 'NNP'),\n",
       " ('RESPECT', 'NNP'),\n",
       " ('TO', 'NNP'),\n",
       " ('THE', 'NNP'),\n",
       " ('SENTENCE', 'NNP'),\n",
       " ('THESE', 'NNP'),\n",
       " ('SOCALLED', 'NNP'),\n",
       " ('TOKENS', 'NNP'),\n",
       " ('CAN', 'NNP'),\n",
       " ('BE', 'NNP'),\n",
       " ('WORDS', 'NNP'),\n",
       " ('NUMBERS', 'NNP'),\n",
       " ('OR', 'NNP'),\n",
       " ('PUNCTUATION', 'NNP'),\n",
       " ('MARKS', 'NNP')]"
      ]
     },
     "execution_count": 10,
     "metadata": {},
     "output_type": "execute_result"
    }
   ],
   "source": [
    "nltk.download('averaged_perceptron_tagger')\n",
    "pos_data = nltk.pos_tag(lemma_data)\n",
    "pos_data"
   ]
  },
  {
   "cell_type": "code",
   "execution_count": 11,
   "metadata": {},
   "outputs": [
    {
     "data": {
      "image/svg+xml": [
       "<svg baseProfile=\"full\" height=\"168px\" preserveAspectRatio=\"xMidYMid meet\" style=\"font-family: times, serif; font-weight: normal; font-style: normal; font-size: 16px;\" version=\"1.1\" viewBox=\"0,0,3064.0,168.0\" width=\"3064px\" xmlns=\"http://www.w3.org/2000/svg\" xmlns:ev=\"http://www.w3.org/2001/xml-events\" xmlns:xlink=\"http://www.w3.org/1999/xlink\"><defs /><svg width=\"100%\" x=\"0\" y=\"0px\"><defs /><text text-anchor=\"middle\" x=\"50%\" y=\"16px\">S</text></svg><svg width=\"3.65535%\" x=\"0%\" y=\"48px\"><defs /><svg width=\"100%\" x=\"0\" y=\"0px\"><defs /><text text-anchor=\"middle\" x=\"50%\" y=\"16px\">ORGANIZATION</text></svg><svg width=\"100%\" x=\"0%\" y=\"48px\"><defs /><svg width=\"100%\" x=\"0\" y=\"0px\"><defs /><text text-anchor=\"middle\" x=\"50%\" y=\"16px\">TOKENIZATION</text></svg><svg width=\"100%\" x=\"0%\" y=\"48px\"><defs /><svg width=\"100%\" x=\"0\" y=\"0px\"><defs /><text text-anchor=\"middle\" x=\"50%\" y=\"16px\">NN</text></svg></svg><line stroke=\"black\" x1=\"50%\" x2=\"50%\" y1=\"19.2px\" y2=\"48px\" /></svg><line stroke=\"black\" x1=\"50%\" x2=\"50%\" y1=\"19.2px\" y2=\"48px\" /></svg><line stroke=\"black\" x1=\"50%\" x2=\"1.82768%\" y1=\"19.2px\" y2=\"48px\" /><svg width=\"1.30548%\" x=\"3.65535%\" y=\"48px\"><defs /><svg width=\"100%\" x=\"0\" y=\"0px\"><defs /><text text-anchor=\"middle\" x=\"50%\" y=\"16px\">IS</text></svg><svg width=\"100%\" x=\"0%\" y=\"48px\"><defs /><svg width=\"100%\" x=\"0\" y=\"0px\"><defs /><text text-anchor=\"middle\" x=\"50%\" y=\"16px\">VBZ</text></svg></svg><line stroke=\"black\" x1=\"50%\" x2=\"50%\" y1=\"19.2px\" y2=\"48px\" /></svg><line stroke=\"black\" x1=\"50%\" x2=\"4.30809%\" y1=\"19.2px\" y2=\"48px\" /><svg width=\"3.65535%\" x=\"4.96084%\" y=\"48px\"><defs /><svg width=\"100%\" x=\"0\" y=\"0px\"><defs /><text text-anchor=\"middle\" x=\"50%\" y=\"16px\">ORGANIZATION</text></svg><svg width=\"100%\" x=\"0%\" y=\"48px\"><defs /><svg width=\"100%\" x=\"0\" y=\"0px\"><defs /><text text-anchor=\"middle\" x=\"50%\" y=\"16px\">THE</text></svg><svg width=\"100%\" x=\"0%\" y=\"48px\"><defs /><svg width=\"100%\" x=\"0\" y=\"0px\"><defs /><text text-anchor=\"middle\" x=\"50%\" y=\"16px\">NNP</text></svg></svg><line stroke=\"black\" x1=\"50%\" x2=\"50%\" y1=\"19.2px\" y2=\"48px\" /></svg><line stroke=\"black\" x1=\"50%\" x2=\"50%\" y1=\"19.2px\" y2=\"48px\" /></svg><line stroke=\"black\" x1=\"50%\" x2=\"6.78851%\" y1=\"19.2px\" y2=\"48px\" /><svg width=\"3.65535%\" x=\"8.61619%\" y=\"48px\"><defs /><svg width=\"100%\" x=\"0\" y=\"0px\"><defs /><text text-anchor=\"middle\" x=\"50%\" y=\"16px\">ORGANIZATION</text></svg><svg width=\"100%\" x=\"0%\" y=\"48px\"><defs /><svg width=\"100%\" x=\"0\" y=\"0px\"><defs /><text text-anchor=\"middle\" x=\"50%\" y=\"16px\">STRUCTURED</text></svg><svg width=\"100%\" x=\"0%\" y=\"48px\"><defs /><svg width=\"100%\" x=\"0\" y=\"0px\"><defs /><text text-anchor=\"middle\" x=\"50%\" y=\"16px\">NNP</text></svg></svg><line stroke=\"black\" x1=\"50%\" x2=\"50%\" y1=\"19.2px\" y2=\"48px\" /></svg><line stroke=\"black\" x1=\"50%\" x2=\"50%\" y1=\"19.2px\" y2=\"48px\" /></svg><line stroke=\"black\" x1=\"50%\" x2=\"10.4439%\" y1=\"19.2px\" y2=\"48px\" /><svg width=\"2.34987%\" x=\"12.2715%\" y=\"48px\"><defs /><svg width=\"100%\" x=\"0\" y=\"0px\"><defs /><text text-anchor=\"middle\" x=\"50%\" y=\"16px\">PROCESS</text></svg><svg width=\"100%\" x=\"0%\" y=\"48px\"><defs /><svg width=\"100%\" x=\"0\" y=\"0px\"><defs /><text text-anchor=\"middle\" x=\"50%\" y=\"16px\">NNP</text></svg></svg><line stroke=\"black\" x1=\"50%\" x2=\"50%\" y1=\"19.2px\" y2=\"48px\" /></svg><line stroke=\"black\" x1=\"50%\" x2=\"13.4465%\" y1=\"19.2px\" y2=\"48px\" /><svg width=\"1.30548%\" x=\"14.6214%\" y=\"48px\"><defs /><svg width=\"100%\" x=\"0\" y=\"0px\"><defs /><text text-anchor=\"middle\" x=\"50%\" y=\"16px\">OF</text></svg><svg width=\"100%\" x=\"0%\" y=\"48px\"><defs /><svg width=\"100%\" x=\"0\" y=\"0px\"><defs /><text text-anchor=\"middle\" x=\"50%\" y=\"16px\">NNP</text></svg></svg><line stroke=\"black\" x1=\"50%\" x2=\"50%\" y1=\"19.2px\" y2=\"48px\" /></svg><line stroke=\"black\" x1=\"50%\" x2=\"15.2742%\" y1=\"19.2px\" y2=\"48px\" /><svg width=\"3.13316%\" x=\"15.9269%\" y=\"48px\"><defs /><svg width=\"100%\" x=\"0\" y=\"0px\"><defs /><text text-anchor=\"middle\" x=\"50%\" y=\"16px\">CONVERTING</text></svg><svg width=\"100%\" x=\"0%\" y=\"48px\"><defs /><svg width=\"100%\" x=\"0\" y=\"0px\"><defs /><text text-anchor=\"middle\" x=\"50%\" y=\"16px\">NNP</text></svg></svg><line stroke=\"black\" x1=\"50%\" x2=\"50%\" y1=\"19.2px\" y2=\"48px\" /></svg><line stroke=\"black\" x1=\"50%\" x2=\"17.4935%\" y1=\"19.2px\" y2=\"48px\" /><svg width=\"1.30548%\" x=\"19.0601%\" y=\"48px\"><defs /><svg width=\"100%\" x=\"0\" y=\"0px\"><defs /><text text-anchor=\"middle\" x=\"50%\" y=\"16px\">A</text></svg><svg width=\"100%\" x=\"0%\" y=\"48px\"><defs /><svg width=\"100%\" x=\"0\" y=\"0px\"><defs /><text text-anchor=\"middle\" x=\"50%\" y=\"16px\">NNP</text></svg></svg><line stroke=\"black\" x1=\"50%\" x2=\"50%\" y1=\"19.2px\" y2=\"48px\" /></svg><line stroke=\"black\" x1=\"50%\" x2=\"19.7128%\" y1=\"19.2px\" y2=\"48px\" /><svg width=\"3.65535%\" x=\"20.3655%\" y=\"48px\"><defs /><svg width=\"100%\" x=\"0\" y=\"0px\"><defs /><text text-anchor=\"middle\" x=\"50%\" y=\"16px\">ORGANIZATION</text></svg><svg width=\"100%\" x=\"0%\" y=\"48px\"><defs /><svg width=\"100%\" x=\"0\" y=\"0px\"><defs /><text text-anchor=\"middle\" x=\"50%\" y=\"16px\">SENTENCE</text></svg><svg width=\"100%\" x=\"0%\" y=\"48px\"><defs /><svg width=\"100%\" x=\"0\" y=\"0px\"><defs /><text text-anchor=\"middle\" x=\"50%\" y=\"16px\">NNP</text></svg></svg><line stroke=\"black\" x1=\"50%\" x2=\"50%\" y1=\"19.2px\" y2=\"48px\" /></svg><line stroke=\"black\" x1=\"50%\" x2=\"50%\" y1=\"19.2px\" y2=\"48px\" /></svg><line stroke=\"black\" x1=\"50%\" x2=\"22.1932%\" y1=\"19.2px\" y2=\"48px\" /><svg width=\"3.65535%\" x=\"24.0209%\" y=\"48px\"><defs /><svg width=\"100%\" x=\"0\" y=\"0px\"><defs /><text text-anchor=\"middle\" x=\"50%\" y=\"16px\">ORGANIZATION</text></svg><svg width=\"100%\" x=\"0%\" y=\"48px\"><defs /><svg width=\"100%\" x=\"0\" y=\"0px\"><defs /><text text-anchor=\"middle\" x=\"50%\" y=\"16px\">INTO</text></svg><svg width=\"100%\" x=\"0%\" y=\"48px\"><defs /><svg width=\"100%\" x=\"0\" y=\"0px\"><defs /><text text-anchor=\"middle\" x=\"50%\" y=\"16px\">NNP</text></svg></svg><line stroke=\"black\" x1=\"50%\" x2=\"50%\" y1=\"19.2px\" y2=\"48px\" /></svg><line stroke=\"black\" x1=\"50%\" x2=\"50%\" y1=\"19.2px\" y2=\"48px\" /></svg><line stroke=\"black\" x1=\"50%\" x2=\"25.8486%\" y1=\"19.2px\" y2=\"48px\" /><svg width=\"1.30548%\" x=\"27.6762%\" y=\"48px\"><defs /><svg width=\"100%\" x=\"0\" y=\"0px\"><defs /><text text-anchor=\"middle\" x=\"50%\" y=\"16px\">AN</text></svg><svg width=\"100%\" x=\"0%\" y=\"48px\"><defs /><svg width=\"100%\" x=\"0\" y=\"0px\"><defs /><text text-anchor=\"middle\" x=\"50%\" y=\"16px\">NNP</text></svg></svg><line stroke=\"black\" x1=\"50%\" x2=\"50%\" y1=\"19.2px\" y2=\"48px\" /></svg><line stroke=\"black\" x1=\"50%\" x2=\"28.329%\" y1=\"19.2px\" y2=\"48px\" /><svg width=\"3.13316%\" x=\"28.9817%\" y=\"48px\"><defs /><svg width=\"100%\" x=\"0\" y=\"0px\"><defs /><text text-anchor=\"middle\" x=\"50%\" y=\"16px\">INDIVIDUAL</text></svg><svg width=\"100%\" x=\"0%\" y=\"48px\"><defs /><svg width=\"100%\" x=\"0\" y=\"0px\"><defs /><text text-anchor=\"middle\" x=\"50%\" y=\"16px\">NNP</text></svg></svg><line stroke=\"black\" x1=\"50%\" x2=\"50%\" y1=\"19.2px\" y2=\"48px\" /></svg><line stroke=\"black\" x1=\"50%\" x2=\"30.5483%\" y1=\"19.2px\" y2=\"48px\" /><svg width=\"3.13316%\" x=\"32.1149%\" y=\"48px\"><defs /><svg width=\"100%\" x=\"0\" y=\"0px\"><defs /><text text-anchor=\"middle\" x=\"50%\" y=\"16px\">COLLECTION</text></svg><svg width=\"100%\" x=\"0%\" y=\"48px\"><defs /><svg width=\"100%\" x=\"0\" y=\"0px\"><defs /><text text-anchor=\"middle\" x=\"50%\" y=\"16px\">NNP</text></svg></svg><line stroke=\"black\" x1=\"50%\" x2=\"50%\" y1=\"19.2px\" y2=\"48px\" /></svg><line stroke=\"black\" x1=\"50%\" x2=\"33.6815%\" y1=\"19.2px\" y2=\"48px\" /><svg width=\"1.04439%\" x=\"35.248%\" y=\"48px\"><defs /><svg width=\"100%\" x=\"0\" y=\"0px\"><defs /><text text-anchor=\"middle\" x=\"50%\" y=\"16px\">OF</text></svg><svg width=\"100%\" x=\"0%\" y=\"48px\"><defs /><svg width=\"100%\" x=\"0\" y=\"0px\"><defs /><text text-anchor=\"middle\" x=\"50%\" y=\"16px\">IN</text></svg></svg><line stroke=\"black\" x1=\"50%\" x2=\"50%\" y1=\"19.2px\" y2=\"48px\" /></svg><line stroke=\"black\" x1=\"50%\" x2=\"35.7702%\" y1=\"19.2px\" y2=\"48px\" /><svg width=\"3.65535%\" x=\"36.2924%\" y=\"48px\"><defs /><svg width=\"100%\" x=\"0\" y=\"0px\"><defs /><text text-anchor=\"middle\" x=\"50%\" y=\"16px\">ORGANIZATION</text></svg><svg width=\"100%\" x=\"0%\" y=\"48px\"><defs /><svg width=\"100%\" x=\"0\" y=\"0px\"><defs /><text text-anchor=\"middle\" x=\"50%\" y=\"16px\">ELEMENTS</text></svg><svg width=\"100%\" x=\"0%\" y=\"48px\"><defs /><svg width=\"100%\" x=\"0\" y=\"0px\"><defs /><text text-anchor=\"middle\" x=\"50%\" y=\"16px\">NNP</text></svg></svg><line stroke=\"black\" x1=\"50%\" x2=\"50%\" y1=\"19.2px\" y2=\"48px\" /></svg><line stroke=\"black\" x1=\"50%\" x2=\"50%\" y1=\"19.2px\" y2=\"48px\" /></svg><line stroke=\"black\" x1=\"50%\" x2=\"38.1201%\" y1=\"19.2px\" y2=\"48px\" /><svg width=\"2.08877%\" x=\"39.9478%\" y=\"48px\"><defs /><svg width=\"100%\" x=\"0\" y=\"0px\"><defs /><text text-anchor=\"middle\" x=\"50%\" y=\"16px\">CALLED</text></svg><svg width=\"100%\" x=\"0%\" y=\"48px\"><defs /><svg width=\"100%\" x=\"0\" y=\"0px\"><defs /><text text-anchor=\"middle\" x=\"50%\" y=\"16px\">NNP</text></svg></svg><line stroke=\"black\" x1=\"50%\" x2=\"50%\" y1=\"19.2px\" y2=\"48px\" /></svg><line stroke=\"black\" x1=\"50%\" x2=\"40.9922%\" y1=\"19.2px\" y2=\"48px\" /><svg width=\"2.08877%\" x=\"42.0366%\" y=\"48px\"><defs /><svg width=\"100%\" x=\"0\" y=\"0px\"><defs /><text text-anchor=\"middle\" x=\"50%\" y=\"16px\">TOKENS</text></svg><svg width=\"100%\" x=\"0%\" y=\"48px\"><defs /><svg width=\"100%\" x=\"0\" y=\"0px\"><defs /><text text-anchor=\"middle\" x=\"50%\" y=\"16px\">NNP</text></svg></svg><line stroke=\"black\" x1=\"50%\" x2=\"50%\" y1=\"19.2px\" y2=\"48px\" /></svg><line stroke=\"black\" x1=\"50%\" x2=\"43.0809%\" y1=\"19.2px\" y2=\"48px\" /><svg width=\"1.30548%\" x=\"44.1253%\" y=\"48px\"><defs /><svg width=\"100%\" x=\"0\" y=\"0px\"><defs /><text text-anchor=\"middle\" x=\"50%\" y=\"16px\">IT</text></svg><svg width=\"100%\" x=\"0%\" y=\"48px\"><defs /><svg width=\"100%\" x=\"0\" y=\"0px\"><defs /><text text-anchor=\"middle\" x=\"50%\" y=\"16px\">NNP</text></svg></svg><line stroke=\"black\" x1=\"50%\" x2=\"50%\" y1=\"19.2px\" y2=\"48px\" /></svg><line stroke=\"black\" x1=\"50%\" x2=\"44.7781%\" y1=\"19.2px\" y2=\"48px\" /><svg width=\"1.30548%\" x=\"45.4308%\" y=\"48px\"><defs /><svg width=\"100%\" x=\"0\" y=\"0px\"><defs /><text text-anchor=\"middle\" x=\"50%\" y=\"16px\">IS</text></svg><svg width=\"100%\" x=\"0%\" y=\"48px\"><defs /><svg width=\"100%\" x=\"0\" y=\"0px\"><defs /><text text-anchor=\"middle\" x=\"50%\" y=\"16px\">NNP</text></svg></svg><line stroke=\"black\" x1=\"50%\" x2=\"50%\" y1=\"19.2px\" y2=\"48px\" /></svg><line stroke=\"black\" x1=\"50%\" x2=\"46.0836%\" y1=\"19.2px\" y2=\"48px\" /><svg width=\"1.56658%\" x=\"46.7363%\" y=\"48px\"><defs /><svg width=\"100%\" x=\"0\" y=\"0px\"><defs /><text text-anchor=\"middle\" x=\"50%\" y=\"16px\">ALSO</text></svg><svg width=\"100%\" x=\"0%\" y=\"48px\"><defs /><svg width=\"100%\" x=\"0\" y=\"0px\"><defs /><text text-anchor=\"middle\" x=\"50%\" y=\"16px\">NNP</text></svg></svg><line stroke=\"black\" x1=\"50%\" x2=\"50%\" y1=\"19.2px\" y2=\"48px\" /></svg><line stroke=\"black\" x1=\"50%\" x2=\"47.5196%\" y1=\"19.2px\" y2=\"48px\" /><svg width=\"1.56658%\" x=\"48.3029%\" y=\"48px\"><defs /><svg width=\"100%\" x=\"0\" y=\"0px\"><defs /><text text-anchor=\"middle\" x=\"50%\" y=\"16px\">USED</text></svg><svg width=\"100%\" x=\"0%\" y=\"48px\"><defs /><svg width=\"100%\" x=\"0\" y=\"0px\"><defs /><text text-anchor=\"middle\" x=\"50%\" y=\"16px\">NNP</text></svg></svg><line stroke=\"black\" x1=\"50%\" x2=\"50%\" y1=\"19.2px\" y2=\"48px\" /></svg><line stroke=\"black\" x1=\"50%\" x2=\"49.0862%\" y1=\"19.2px\" y2=\"48px\" /><svg width=\"1.30548%\" x=\"49.8695%\" y=\"48px\"><defs /><svg width=\"100%\" x=\"0\" y=\"0px\"><defs /><text text-anchor=\"middle\" x=\"50%\" y=\"16px\">TO</text></svg><svg width=\"100%\" x=\"0%\" y=\"48px\"><defs /><svg width=\"100%\" x=\"0\" y=\"0px\"><defs /><text text-anchor=\"middle\" x=\"50%\" y=\"16px\">NNP</text></svg></svg><line stroke=\"black\" x1=\"50%\" x2=\"50%\" y1=\"19.2px\" y2=\"48px\" /></svg><line stroke=\"black\" x1=\"50%\" x2=\"50.5222%\" y1=\"19.2px\" y2=\"48px\" /><svg width=\"3.13316%\" x=\"51.1749%\" y=\"48px\"><defs /><svg width=\"100%\" x=\"0\" y=\"0px\"><defs /><text text-anchor=\"middle\" x=\"50%\" y=\"16px\">UNDERSTAND</text></svg><svg width=\"100%\" x=\"0%\" y=\"48px\"><defs /><svg width=\"100%\" x=\"0\" y=\"0px\"><defs /><text text-anchor=\"middle\" x=\"50%\" y=\"16px\">NNP</text></svg></svg><line stroke=\"black\" x1=\"50%\" x2=\"50%\" y1=\"19.2px\" y2=\"48px\" /></svg><line stroke=\"black\" x1=\"50%\" x2=\"52.7415%\" y1=\"19.2px\" y2=\"48px\" /><svg width=\"1.30548%\" x=\"54.3081%\" y=\"48px\"><defs /><svg width=\"100%\" x=\"0\" y=\"0px\"><defs /><text text-anchor=\"middle\" x=\"50%\" y=\"16px\">THE</text></svg><svg width=\"100%\" x=\"0%\" y=\"48px\"><defs /><svg width=\"100%\" x=\"0\" y=\"0px\"><defs /><text text-anchor=\"middle\" x=\"50%\" y=\"16px\">NNP</text></svg></svg><line stroke=\"black\" x1=\"50%\" x2=\"50%\" y1=\"19.2px\" y2=\"48px\" /></svg><line stroke=\"black\" x1=\"50%\" x2=\"54.9608%\" y1=\"19.2px\" y2=\"48px\" /><svg width=\"4.43864%\" x=\"55.6136%\" y=\"48px\"><defs /><svg width=\"100%\" x=\"0\" y=\"0px\"><defs /><text text-anchor=\"middle\" x=\"50%\" y=\"16px\">ORGANIZATION</text></svg><svg width=\"70.5882%\" x=\"0%\" y=\"48px\"><defs /><svg width=\"100%\" x=\"0\" y=\"0px\"><defs /><text text-anchor=\"middle\" x=\"50%\" y=\"16px\">IMPORTANCE</text></svg><svg width=\"100%\" x=\"0%\" y=\"48px\"><defs /><svg width=\"100%\" x=\"0\" y=\"0px\"><defs /><text text-anchor=\"middle\" x=\"50%\" y=\"16px\">NNP</text></svg></svg><line stroke=\"black\" x1=\"50%\" x2=\"50%\" y1=\"19.2px\" y2=\"48px\" /></svg><line stroke=\"black\" x1=\"50%\" x2=\"35.2941%\" y1=\"19.2px\" y2=\"48px\" /><svg width=\"29.4118%\" x=\"70.5882%\" y=\"48px\"><defs /><svg width=\"100%\" x=\"0\" y=\"0px\"><defs /><text text-anchor=\"middle\" x=\"50%\" y=\"16px\">OF</text></svg><svg width=\"100%\" x=\"0%\" y=\"48px\"><defs /><svg width=\"100%\" x=\"0\" y=\"0px\"><defs /><text text-anchor=\"middle\" x=\"50%\" y=\"16px\">NNP</text></svg></svg><line stroke=\"black\" x1=\"50%\" x2=\"50%\" y1=\"19.2px\" y2=\"48px\" /></svg><line stroke=\"black\" x1=\"50%\" x2=\"85.2941%\" y1=\"19.2px\" y2=\"48px\" /></svg><line stroke=\"black\" x1=\"50%\" x2=\"57.8329%\" y1=\"19.2px\" y2=\"48px\" /><svg width=\"1.56658%\" x=\"60.0522%\" y=\"48px\"><defs /><svg width=\"100%\" x=\"0\" y=\"0px\"><defs /><text text-anchor=\"middle\" x=\"50%\" y=\"16px\">EACH</text></svg><svg width=\"100%\" x=\"0%\" y=\"48px\"><defs /><svg width=\"100%\" x=\"0\" y=\"0px\"><defs /><text text-anchor=\"middle\" x=\"50%\" y=\"16px\">NNP</text></svg></svg><line stroke=\"black\" x1=\"50%\" x2=\"50%\" y1=\"19.2px\" y2=\"48px\" /></svg><line stroke=\"black\" x1=\"50%\" x2=\"60.8355%\" y1=\"19.2px\" y2=\"48px\" /><svg width=\"1.04439%\" x=\"61.6188%\" y=\"48px\"><defs /><svg width=\"100%\" x=\"0\" y=\"0px\"><defs /><text text-anchor=\"middle\" x=\"50%\" y=\"16px\">OF</text></svg><svg width=\"100%\" x=\"0%\" y=\"48px\"><defs /><svg width=\"100%\" x=\"0\" y=\"0px\"><defs /><text text-anchor=\"middle\" x=\"50%\" y=\"16px\">IN</text></svg></svg><line stroke=\"black\" x1=\"50%\" x2=\"50%\" y1=\"19.2px\" y2=\"48px\" /></svg><line stroke=\"black\" x1=\"50%\" x2=\"62.141%\" y1=\"19.2px\" y2=\"48px\" /><svg width=\"3.65535%\" x=\"62.6632%\" y=\"48px\"><defs /><svg width=\"100%\" x=\"0\" y=\"0px\"><defs /><text text-anchor=\"middle\" x=\"50%\" y=\"16px\">ORGANIZATION</text></svg><svg width=\"100%\" x=\"0%\" y=\"48px\"><defs /><svg width=\"100%\" x=\"0\" y=\"0px\"><defs /><text text-anchor=\"middle\" x=\"50%\" y=\"16px\">THE</text></svg><svg width=\"100%\" x=\"0%\" y=\"48px\"><defs /><svg width=\"100%\" x=\"0\" y=\"0px\"><defs /><text text-anchor=\"middle\" x=\"50%\" y=\"16px\">NNP</text></svg></svg><line stroke=\"black\" x1=\"50%\" x2=\"50%\" y1=\"19.2px\" y2=\"48px\" /></svg><line stroke=\"black\" x1=\"50%\" x2=\"50%\" y1=\"19.2px\" y2=\"48px\" /></svg><line stroke=\"black\" x1=\"50%\" x2=\"64.4909%\" y1=\"19.2px\" y2=\"48px\" /><svg width=\"3.65535%\" x=\"66.3185%\" y=\"48px\"><defs /><svg width=\"100%\" x=\"0\" y=\"0px\"><defs /><text text-anchor=\"middle\" x=\"50%\" y=\"16px\">ORGANIZATION</text></svg><svg width=\"100%\" x=\"0%\" y=\"48px\"><defs /><svg width=\"100%\" x=\"0\" y=\"0px\"><defs /><text text-anchor=\"middle\" x=\"50%\" y=\"16px\">WORDS</text></svg><svg width=\"100%\" x=\"0%\" y=\"48px\"><defs /><svg width=\"100%\" x=\"0\" y=\"0px\"><defs /><text text-anchor=\"middle\" x=\"50%\" y=\"16px\">NNP</text></svg></svg><line stroke=\"black\" x1=\"50%\" x2=\"50%\" y1=\"19.2px\" y2=\"48px\" /></svg><line stroke=\"black\" x1=\"50%\" x2=\"50%\" y1=\"19.2px\" y2=\"48px\" /></svg><line stroke=\"black\" x1=\"50%\" x2=\"68.1462%\" y1=\"19.2px\" y2=\"48px\" /><svg width=\"1.56658%\" x=\"69.9739%\" y=\"48px\"><defs /><svg width=\"100%\" x=\"0\" y=\"0px\"><defs /><text text-anchor=\"middle\" x=\"50%\" y=\"16px\">WITH</text></svg><svg width=\"100%\" x=\"0%\" y=\"48px\"><defs /><svg width=\"100%\" x=\"0\" y=\"0px\"><defs /><text text-anchor=\"middle\" x=\"50%\" y=\"16px\">NNP</text></svg></svg><line stroke=\"black\" x1=\"50%\" x2=\"50%\" y1=\"19.2px\" y2=\"48px\" /></svg><line stroke=\"black\" x1=\"50%\" x2=\"70.7572%\" y1=\"19.2px\" y2=\"48px\" /><svg width=\"2.34987%\" x=\"71.5405%\" y=\"48px\"><defs /><svg width=\"100%\" x=\"0\" y=\"0px\"><defs /><text text-anchor=\"middle\" x=\"50%\" y=\"16px\">RESPECT</text></svg><svg width=\"100%\" x=\"0%\" y=\"48px\"><defs /><svg width=\"100%\" x=\"0\" y=\"0px\"><defs /><text text-anchor=\"middle\" x=\"50%\" y=\"16px\">NNP</text></svg></svg><line stroke=\"black\" x1=\"50%\" x2=\"50%\" y1=\"19.2px\" y2=\"48px\" /></svg><line stroke=\"black\" x1=\"50%\" x2=\"72.7154%\" y1=\"19.2px\" y2=\"48px\" /><svg width=\"1.30548%\" x=\"73.8903%\" y=\"48px\"><defs /><svg width=\"100%\" x=\"0\" y=\"0px\"><defs /><text text-anchor=\"middle\" x=\"50%\" y=\"16px\">TO</text></svg><svg width=\"100%\" x=\"0%\" y=\"48px\"><defs /><svg width=\"100%\" x=\"0\" y=\"0px\"><defs /><text text-anchor=\"middle\" x=\"50%\" y=\"16px\">NNP</text></svg></svg><line stroke=\"black\" x1=\"50%\" x2=\"50%\" y1=\"19.2px\" y2=\"48px\" /></svg><line stroke=\"black\" x1=\"50%\" x2=\"74.5431%\" y1=\"19.2px\" y2=\"48px\" /><svg width=\"1.30548%\" x=\"75.1958%\" y=\"48px\"><defs /><svg width=\"100%\" x=\"0\" y=\"0px\"><defs /><text text-anchor=\"middle\" x=\"50%\" y=\"16px\">THE</text></svg><svg width=\"100%\" x=\"0%\" y=\"48px\"><defs /><svg width=\"100%\" x=\"0\" y=\"0px\"><defs /><text text-anchor=\"middle\" x=\"50%\" y=\"16px\">NNP</text></svg></svg><line stroke=\"black\" x1=\"50%\" x2=\"50%\" y1=\"19.2px\" y2=\"48px\" /></svg><line stroke=\"black\" x1=\"50%\" x2=\"75.8486%\" y1=\"19.2px\" y2=\"48px\" /><svg width=\"3.65535%\" x=\"76.5013%\" y=\"48px\"><defs /><svg width=\"100%\" x=\"0\" y=\"0px\"><defs /><text text-anchor=\"middle\" x=\"50%\" y=\"16px\">ORGANIZATION</text></svg><svg width=\"100%\" x=\"0%\" y=\"48px\"><defs /><svg width=\"100%\" x=\"0\" y=\"0px\"><defs /><text text-anchor=\"middle\" x=\"50%\" y=\"16px\">SENTENCE</text></svg><svg width=\"100%\" x=\"0%\" y=\"48px\"><defs /><svg width=\"100%\" x=\"0\" y=\"0px\"><defs /><text text-anchor=\"middle\" x=\"50%\" y=\"16px\">NNP</text></svg></svg><line stroke=\"black\" x1=\"50%\" x2=\"50%\" y1=\"19.2px\" y2=\"48px\" /></svg><line stroke=\"black\" x1=\"50%\" x2=\"50%\" y1=\"19.2px\" y2=\"48px\" /></svg><line stroke=\"black\" x1=\"50%\" x2=\"78.329%\" y1=\"19.2px\" y2=\"48px\" /><svg width=\"1.82768%\" x=\"80.1567%\" y=\"48px\"><defs /><svg width=\"100%\" x=\"0\" y=\"0px\"><defs /><text text-anchor=\"middle\" x=\"50%\" y=\"16px\">THESE</text></svg><svg width=\"100%\" x=\"0%\" y=\"48px\"><defs /><svg width=\"100%\" x=\"0\" y=\"0px\"><defs /><text text-anchor=\"middle\" x=\"50%\" y=\"16px\">NNP</text></svg></svg><line stroke=\"black\" x1=\"50%\" x2=\"50%\" y1=\"19.2px\" y2=\"48px\" /></svg><line stroke=\"black\" x1=\"50%\" x2=\"81.0705%\" y1=\"19.2px\" y2=\"48px\" /><svg width=\"2.61097%\" x=\"81.9843%\" y=\"48px\"><defs /><svg width=\"100%\" x=\"0\" y=\"0px\"><defs /><text text-anchor=\"middle\" x=\"50%\" y=\"16px\">SOCALLED</text></svg><svg width=\"100%\" x=\"0%\" y=\"48px\"><defs /><svg width=\"100%\" x=\"0\" y=\"0px\"><defs /><text text-anchor=\"middle\" x=\"50%\" y=\"16px\">NNP</text></svg></svg><line stroke=\"black\" x1=\"50%\" x2=\"50%\" y1=\"19.2px\" y2=\"48px\" /></svg><line stroke=\"black\" x1=\"50%\" x2=\"83.2898%\" y1=\"19.2px\" y2=\"48px\" /><svg width=\"2.08877%\" x=\"84.5953%\" y=\"48px\"><defs /><svg width=\"100%\" x=\"0\" y=\"0px\"><defs /><text text-anchor=\"middle\" x=\"50%\" y=\"16px\">TOKENS</text></svg><svg width=\"100%\" x=\"0%\" y=\"48px\"><defs /><svg width=\"100%\" x=\"0\" y=\"0px\"><defs /><text text-anchor=\"middle\" x=\"50%\" y=\"16px\">NNP</text></svg></svg><line stroke=\"black\" x1=\"50%\" x2=\"50%\" y1=\"19.2px\" y2=\"48px\" /></svg><line stroke=\"black\" x1=\"50%\" x2=\"85.6397%\" y1=\"19.2px\" y2=\"48px\" /><svg width=\"1.30548%\" x=\"86.6841%\" y=\"48px\"><defs /><svg width=\"100%\" x=\"0\" y=\"0px\"><defs /><text text-anchor=\"middle\" x=\"50%\" y=\"16px\">CAN</text></svg><svg width=\"100%\" x=\"0%\" y=\"48px\"><defs /><svg width=\"100%\" x=\"0\" y=\"0px\"><defs /><text text-anchor=\"middle\" x=\"50%\" y=\"16px\">NNP</text></svg></svg><line stroke=\"black\" x1=\"50%\" x2=\"50%\" y1=\"19.2px\" y2=\"48px\" /></svg><line stroke=\"black\" x1=\"50%\" x2=\"87.3368%\" y1=\"19.2px\" y2=\"48px\" /><svg width=\"1.30548%\" x=\"87.9896%\" y=\"48px\"><defs /><svg width=\"100%\" x=\"0\" y=\"0px\"><defs /><text text-anchor=\"middle\" x=\"50%\" y=\"16px\">BE</text></svg><svg width=\"100%\" x=\"0%\" y=\"48px\"><defs /><svg width=\"100%\" x=\"0\" y=\"0px\"><defs /><text text-anchor=\"middle\" x=\"50%\" y=\"16px\">NNP</text></svg></svg><line stroke=\"black\" x1=\"50%\" x2=\"50%\" y1=\"19.2px\" y2=\"48px\" /></svg><line stroke=\"black\" x1=\"50%\" x2=\"88.6423%\" y1=\"19.2px\" y2=\"48px\" /><svg width=\"1.82768%\" x=\"89.295%\" y=\"48px\"><defs /><svg width=\"100%\" x=\"0\" y=\"0px\"><defs /><text text-anchor=\"middle\" x=\"50%\" y=\"16px\">WORDS</text></svg><svg width=\"100%\" x=\"0%\" y=\"48px\"><defs /><svg width=\"100%\" x=\"0\" y=\"0px\"><defs /><text text-anchor=\"middle\" x=\"50%\" y=\"16px\">NNP</text></svg></svg><line stroke=\"black\" x1=\"50%\" x2=\"50%\" y1=\"19.2px\" y2=\"48px\" /></svg><line stroke=\"black\" x1=\"50%\" x2=\"90.2089%\" y1=\"19.2px\" y2=\"48px\" /><svg width=\"2.34987%\" x=\"91.1227%\" y=\"48px\"><defs /><svg width=\"100%\" x=\"0\" y=\"0px\"><defs /><text text-anchor=\"middle\" x=\"50%\" y=\"16px\">NUMBERS</text></svg><svg width=\"100%\" x=\"0%\" y=\"48px\"><defs /><svg width=\"100%\" x=\"0\" y=\"0px\"><defs /><text text-anchor=\"middle\" x=\"50%\" y=\"16px\">NNP</text></svg></svg><line stroke=\"black\" x1=\"50%\" x2=\"50%\" y1=\"19.2px\" y2=\"48px\" /></svg><line stroke=\"black\" x1=\"50%\" x2=\"92.2977%\" y1=\"19.2px\" y2=\"48px\" /><svg width=\"1.30548%\" x=\"93.4726%\" y=\"48px\"><defs /><svg width=\"100%\" x=\"0\" y=\"0px\"><defs /><text text-anchor=\"middle\" x=\"50%\" y=\"16px\">OR</text></svg><svg width=\"100%\" x=\"0%\" y=\"48px\"><defs /><svg width=\"100%\" x=\"0\" y=\"0px\"><defs /><text text-anchor=\"middle\" x=\"50%\" y=\"16px\">NNP</text></svg></svg><line stroke=\"black\" x1=\"50%\" x2=\"50%\" y1=\"19.2px\" y2=\"48px\" /></svg><line stroke=\"black\" x1=\"50%\" x2=\"94.1253%\" y1=\"19.2px\" y2=\"48px\" /><svg width=\"3.39426%\" x=\"94.7781%\" y=\"48px\"><defs /><svg width=\"100%\" x=\"0\" y=\"0px\"><defs /><text text-anchor=\"middle\" x=\"50%\" y=\"16px\">PUNCTUATION</text></svg><svg width=\"100%\" x=\"0%\" y=\"48px\"><defs /><svg width=\"100%\" x=\"0\" y=\"0px\"><defs /><text text-anchor=\"middle\" x=\"50%\" y=\"16px\">NNP</text></svg></svg><line stroke=\"black\" x1=\"50%\" x2=\"50%\" y1=\"19.2px\" y2=\"48px\" /></svg><line stroke=\"black\" x1=\"50%\" x2=\"96.4752%\" y1=\"19.2px\" y2=\"48px\" /><svg width=\"1.82768%\" x=\"98.1723%\" y=\"48px\"><defs /><svg width=\"100%\" x=\"0\" y=\"0px\"><defs /><text text-anchor=\"middle\" x=\"50%\" y=\"16px\">MARKS</text></svg><svg width=\"100%\" x=\"0%\" y=\"48px\"><defs /><svg width=\"100%\" x=\"0\" y=\"0px\"><defs /><text text-anchor=\"middle\" x=\"50%\" y=\"16px\">NNP</text></svg></svg><line stroke=\"black\" x1=\"50%\" x2=\"50%\" y1=\"19.2px\" y2=\"48px\" /></svg><line stroke=\"black\" x1=\"50%\" x2=\"99.0862%\" y1=\"19.2px\" y2=\"48px\" /></svg>"
      ],
      "text/plain": [
       "Tree('S', [Tree('ORGANIZATION', [('TOKENIZATION', 'NN')]), ('IS', 'VBZ'), Tree('ORGANIZATION', [('THE', 'NNP')]), Tree('ORGANIZATION', [('STRUCTURED', 'NNP')]), ('PROCESS', 'NNP'), ('OF', 'NNP'), ('CONVERTING', 'NNP'), ('A', 'NNP'), Tree('ORGANIZATION', [('SENTENCE', 'NNP')]), Tree('ORGANIZATION', [('INTO', 'NNP')]), ('AN', 'NNP'), ('INDIVIDUAL', 'NNP'), ('COLLECTION', 'NNP'), ('OF', 'IN'), Tree('ORGANIZATION', [('ELEMENTS', 'NNP')]), ('CALLED', 'NNP'), ('TOKENS', 'NNP'), ('IT', 'NNP'), ('IS', 'NNP'), ('ALSO', 'NNP'), ('USED', 'NNP'), ('TO', 'NNP'), ('UNDERSTAND', 'NNP'), ('THE', 'NNP'), Tree('ORGANIZATION', [('IMPORTANCE', 'NNP'), ('OF', 'NNP')]), ('EACH', 'NNP'), ('OF', 'IN'), Tree('ORGANIZATION', [('THE', 'NNP')]), Tree('ORGANIZATION', [('WORDS', 'NNP')]), ('WITH', 'NNP'), ('RESPECT', 'NNP'), ('TO', 'NNP'), ('THE', 'NNP'), Tree('ORGANIZATION', [('SENTENCE', 'NNP')]), ('THESE', 'NNP'), ('SOCALLED', 'NNP'), ('TOKENS', 'NNP'), ('CAN', 'NNP'), ('BE', 'NNP'), ('WORDS', 'NNP'), ('NUMBERS', 'NNP'), ('OR', 'NNP'), ('PUNCTUATION', 'NNP'), ('MARKS', 'NNP')])"
      ]
     },
     "execution_count": 11,
     "metadata": {},
     "output_type": "execute_result"
    }
   ],
   "source": [
    "from nltk import ne_chunk\n",
    "\n",
    "tagged_tokens = ne_chunk(pos_data)\n",
    "tagged_tokens"
   ]
  }
 ],
 "metadata": {
  "kernelspec": {
   "display_name": "Python 3",
   "language": "python",
   "name": "python3"
  },
  "language_info": {
   "codemirror_mode": {
    "name": "ipython",
    "version": 3
   },
   "file_extension": ".py",
   "mimetype": "text/x-python",
   "name": "python",
   "nbconvert_exporter": "python",
   "pygments_lexer": "ipython3",
   "version": "3.12.0"
  }
 },
 "nbformat": 4,
 "nbformat_minor": 2
}
